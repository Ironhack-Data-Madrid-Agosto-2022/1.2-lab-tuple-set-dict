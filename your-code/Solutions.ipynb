{
 "cells": [
  {
   "cell_type": "markdown",
   "metadata": {
    "toc": true
   },
   "source": [
    "<h1>Table of Contents<span class=\"tocSkip\"></span></h1>\n",
    "<div class=\"toc\"><ul class=\"toc-item\"><li><span><a href=\"#Challenge-1:-Tuples\" data-toc-modified-id=\"Challenge-1:-Tuples-1\"><span class=\"toc-item-num\">1&nbsp;&nbsp;</span>Challenge 1: Tuples</a></span><ul class=\"toc-item\"><li><ul class=\"toc-item\"><li><span><a href=\"#Do-you-know-you-can-create-tuples-with-only-one-element?\" data-toc-modified-id=\"Do-you-know-you-can-create-tuples-with-only-one-element?-1.0.1\"><span class=\"toc-item-num\">1.0.1&nbsp;&nbsp;</span>Do you know you can create tuples with only one element?</a></span></li><li><span><a href=\"#Print-the-type-of-tup.\" data-toc-modified-id=\"Print-the-type-of-tup.-1.0.2\"><span class=\"toc-item-num\">1.0.2&nbsp;&nbsp;</span>Print the type of <code>tup</code>.</a></span></li><li><span><a href=\"#Now-try-to-append-the-following-elements-to-tup.\" data-toc-modified-id=\"Now-try-to-append-the-following-elements-to-tup.-1.0.3\"><span class=\"toc-item-num\">1.0.3&nbsp;&nbsp;</span>Now try to append the following elements to <code>tup</code>.</a></span></li><li><span><a href=\"#How-about-re-assign-a-new-value-to-an-existing-tuple?\" data-toc-modified-id=\"How-about-re-assign-a-new-value-to-an-existing-tuple?-1.0.4\"><span class=\"toc-item-num\">1.0.4&nbsp;&nbsp;</span>How about re-assign a new value to an existing tuple?</a></span></li><li><span><a href=\"#Split-tup-into-tup1-and-tup2-with-4-elements-in-each.\" data-toc-modified-id=\"Split-tup-into-tup1-and-tup2-with-4-elements-in-each.-1.0.5\"><span class=\"toc-item-num\">1.0.5&nbsp;&nbsp;</span>Split <code>tup</code> into <code>tup1</code> and <code>tup2</code> with 4 elements in each.</a></span></li><li><span><a href=\"#Add-tup1-and-tup2-into-tup3-using-the-+-operator.\" data-toc-modified-id=\"Add-tup1-and-tup2-into-tup3-using-the-+-operator.-1.0.6\"><span class=\"toc-item-num\">1.0.6&nbsp;&nbsp;</span>Add <code>tup1</code> and <code>tup2</code> into <code>tup3</code> using the <code>+</code> operator.</a></span></li><li><span><a href=\"#Count-the-number-of-elements-in-tup1-and-tup2.-Then-add-the-two-counts-together-and-check-if-the-sum-is-the-same-as-the-number-of-elements-in-tup3.\" data-toc-modified-id=\"Count-the-number-of-elements-in-tup1-and-tup2.-Then-add-the-two-counts-together-and-check-if-the-sum-is-the-same-as-the-number-of-elements-in-tup3.-1.0.7\"><span class=\"toc-item-num\">1.0.7&nbsp;&nbsp;</span>Count the number of elements in <code>tup1</code> and <code>tup2</code>. Then add the two counts together and check if the sum is the same as the number of elements in <code>tup3</code>.</a></span></li><li><span><a href=\"#What-is-the-index-number-of-&quot;h&quot;-in-tup3?\" data-toc-modified-id=\"What-is-the-index-number-of-&quot;h&quot;-in-tup3?-1.0.8\"><span class=\"toc-item-num\">1.0.8&nbsp;&nbsp;</span>What is the index number of <code>\"h\"</code> in <code>tup3</code>?</a></span></li><li><span><a href=\"#Now,-use-a-FOR-loop-to-check-whether-each-letter-in-the-following-list-is-present-in-tup3:\" data-toc-modified-id=\"Now,-use-a-FOR-loop-to-check-whether-each-letter-in-the-following-list-is-present-in-tup3:-1.0.9\"><span class=\"toc-item-num\">1.0.9&nbsp;&nbsp;</span>Now, use a FOR loop to check whether each letter in the following list is present in <code>tup3</code>:</a></span></li><li><span><a href=\"#How-many-times-does-each-letter-in-letters-appear-in-tup3?\" data-toc-modified-id=\"How-many-times-does-each-letter-in-letters-appear-in-tup3?-1.0.10\"><span class=\"toc-item-num\">1.0.10&nbsp;&nbsp;</span>How many times does each letter in <code>letters</code> appear in <code>tup3</code>?</a></span></li></ul></li></ul></li><li><span><a href=\"#Challenge-2:-Sets\" data-toc-modified-id=\"Challenge-2:-Sets-2\"><span class=\"toc-item-num\">2&nbsp;&nbsp;</span>Challenge 2: Sets</a></span><ul class=\"toc-item\"><li><ul class=\"toc-item\"><li><span><a href=\"#First,-import-the-Python-random-library.\" data-toc-modified-id=\"First,-import-the-Python-random-library.-2.0.1\"><span class=\"toc-item-num\">2.0.1&nbsp;&nbsp;</span>First, import the Python <code>random</code> library.</a></span></li><li><span><a href=\"#In-the-cell-below,-create-a-list-named-sample_list_1-with-80-random-values.\" data-toc-modified-id=\"In-the-cell-below,-create-a-list-named-sample_list_1-with-80-random-values.-2.0.2\"><span class=\"toc-item-num\">2.0.2&nbsp;&nbsp;</span>In the cell below, create a list named <code>sample_list_1</code> with 80 random values.</a></span></li><li><span><a href=\"#Convert-sample_list_1-to-a-set-called-set1.-Print-the-length-of-the-set.-Is-its-length-still-80?\" data-toc-modified-id=\"Convert-sample_list_1-to-a-set-called-set1.-Print-the-length-of-the-set.-Is-its-length-still-80?-2.0.3\"><span class=\"toc-item-num\">2.0.3&nbsp;&nbsp;</span>Convert <code>sample_list_1</code> to a set called <code>set1</code>. Print the length of the set. Is its length still 80?</a></span></li><li><span><a href=\"#Create-another-list-named-sample_list_2-with-80-random-values.\" data-toc-modified-id=\"Create-another-list-named-sample_list_2-with-80-random-values.-2.0.4\"><span class=\"toc-item-num\">2.0.4&nbsp;&nbsp;</span>Create another list named <code>sample_list_2</code> with 80 random values.</a></span></li><li><span><a href=\"#Convert-sample_list_2-to-a-set-called-set2.-Print-the-length-of-the-set.-Is-its-length-still-80?\" data-toc-modified-id=\"Convert-sample_list_2-to-a-set-called-set2.-Print-the-length-of-the-set.-Is-its-length-still-80?-2.0.5\"><span class=\"toc-item-num\">2.0.5&nbsp;&nbsp;</span>Convert <code>sample_list_2</code> to a set called <code>set2</code>. Print the length of the set. Is its length still 80?</a></span></li><li><span><a href=\"#Identify-the-elements-present-in-set1-but-not-in-set2.-Assign-the-elements-to-a-new-set-named-set3.\" data-toc-modified-id=\"Identify-the-elements-present-in-set1-but-not-in-set2.-Assign-the-elements-to-a-new-set-named-set3.-2.0.6\"><span class=\"toc-item-num\">2.0.6&nbsp;&nbsp;</span>Identify the elements present in <code>set1</code> but not in <code>set2</code>. Assign the elements to a new set named <code>set3</code>.</a></span></li><li><span><a href=\"#Identify-the-elements-present-in-set2-but-not-in-set1.-Assign-the-elements-to-a-new-set-named-set4.\" data-toc-modified-id=\"Identify-the-elements-present-in-set2-but-not-in-set1.-Assign-the-elements-to-a-new-set-named-set4.-2.0.7\"><span class=\"toc-item-num\">2.0.7&nbsp;&nbsp;</span>Identify the elements present in <code>set2</code> but not in <code>set1</code>. Assign the elements to a new set named <code>set4</code>.</a></span></li><li><span><a href=\"#Now-Identify-the-elements-shared-between-set1-and-set2.-Assign-the-elements-to-a-new-set-named-set5.\" data-toc-modified-id=\"Now-Identify-the-elements-shared-between-set1-and-set2.-Assign-the-elements-to-a-new-set-named-set5.-2.0.8\"><span class=\"toc-item-num\">2.0.8&nbsp;&nbsp;</span>Now Identify the elements shared between <code>set1</code> and <code>set2</code>. Assign the elements to a new set named <code>set5</code>.</a></span></li><li><span><a href=\"#What-is-the-relationship-among-the-following-values:\" data-toc-modified-id=\"What-is-the-relationship-among-the-following-values:-2.0.9\"><span class=\"toc-item-num\">2.0.9&nbsp;&nbsp;</span>What is the relationship among the following values:</a></span></li><li><span><a href=\"#Create-an-empty-set-called-set6.\" data-toc-modified-id=\"Create-an-empty-set-called-set6.-2.0.10\"><span class=\"toc-item-num\">2.0.10&nbsp;&nbsp;</span>Create an empty set called <code>set6</code>.</a></span></li><li><span><a href=\"#Add-set3-and-set5-to-set6-using-the-Python-Set-update-method.\" data-toc-modified-id=\"Add-set3-and-set5-to-set6-using-the-Python-Set-update-method.-2.0.11\"><span class=\"toc-item-num\">2.0.11&nbsp;&nbsp;</span>Add <code>set3</code> and <code>set5</code> to <code>set6</code> using the Python Set <code>update</code> method.</a></span></li><li><span><a href=\"#Check-if-set1-and-set6-are-equal.\" data-toc-modified-id=\"Check-if-set1-and-set6-are-equal.-2.0.12\"><span class=\"toc-item-num\">2.0.12&nbsp;&nbsp;</span>Check if <code>set1</code> and <code>set6</code> are equal.</a></span></li><li><span><a href=\"#Check-if-set1-contains-set2-using-the-Python-Set-issubset-method.-Then-check-if-set1-contains-set3.*\" data-toc-modified-id=\"Check-if-set1-contains-set2-using-the-Python-Set-issubset-method.-Then-check-if-set1-contains-set3.*-2.0.13\"><span class=\"toc-item-num\">2.0.13&nbsp;&nbsp;</span>Check if <code>set1</code> contains <code>set2</code> using the Python Set <code>issubset</code> method. Then check if <code>set1</code> contains <code>set3</code>.*</a></span></li><li><span><a href=\"#Using-the-Python-Set-union-method,-aggregate-set3,-set4,-and-set5.-Then-aggregate-set1-and-set2.\" data-toc-modified-id=\"Using-the-Python-Set-union-method,-aggregate-set3,-set4,-and-set5.-Then-aggregate-set1-and-set2.-2.0.14\"><span class=\"toc-item-num\">2.0.14&nbsp;&nbsp;</span>Using the Python Set <code>union</code> method, aggregate <code>set3</code>, <code>set4</code>, and <code>set5</code>. Then aggregate <code>set1</code> and <code>set2</code>.</a></span></li><li><span><a href=\"#Check-if-the-aggregated-values-are-equal.\" data-toc-modified-id=\"Check-if-the-aggregated-values-are-equal.-2.0.15\"><span class=\"toc-item-num\">2.0.15&nbsp;&nbsp;</span>Check if the aggregated values are equal.</a></span></li><li><span><a href=\"#Using-the-pop-method,-remove-the-first-element-from-set1.\" data-toc-modified-id=\"Using-the-pop-method,-remove-the-first-element-from-set1.-2.0.16\"><span class=\"toc-item-num\">2.0.16&nbsp;&nbsp;</span>Using the <code>pop</code> method, remove the first element from <code>set1</code>.</a></span></li><li><span><a href=\"#Remove-every-element-in-the-following-list-from-set1-if-they-are-present-in-the-set.-Print-the-remaining-elements.\" data-toc-modified-id=\"Remove-every-element-in-the-following-list-from-set1-if-they-are-present-in-the-set.-Print-the-remaining-elements.-2.0.17\"><span class=\"toc-item-num\">2.0.17&nbsp;&nbsp;</span>Remove every element in the following list from <code>set1</code> if they are present in the set. Print the remaining elements.</a></span></li></ul></li></ul></li><li><span><a href=\"#Challenge-3:-Dictionaries\" data-toc-modified-id=\"Challenge-3:-Dictionaries-3\"><span class=\"toc-item-num\">3&nbsp;&nbsp;</span>Challenge 3: Dictionaries</a></span><ul class=\"toc-item\"><li><ul class=\"toc-item\"><li><span><a href=\"#Sort-the-keys-of-word_freq-ascendingly.\" data-toc-modified-id=\"Sort-the-keys-of-word_freq-ascendingly.-3.0.1\"><span class=\"toc-item-num\">3.0.1&nbsp;&nbsp;</span>Sort the keys of <code>word_freq</code> ascendingly.</a></span></li><li><span><a href=\"#Sort-the-values-of-word_freq-ascendingly.\" data-toc-modified-id=\"Sort-the-values-of-word_freq-ascendingly.-3.0.2\"><span class=\"toc-item-num\">3.0.2&nbsp;&nbsp;</span>Sort the values of <code>word_freq</code> ascendingly.</a></span></li></ul></li></ul></li></ul></div>"
   ]
  },
  {
   "cell_type": "markdown",
   "metadata": {},
   "source": [
    "## Challenge 1: Tuples\n",
    "\n",
    "#### Do you know you can create tuples with only one element?\n",
    "\n",
    "**In the cell below, define a variable `tup` with a single element `\"I\"`.**\n",
    "\n",
    "*Hint: you need to add a comma (`,`) after the single element.*"
   ]
  },
  {
   "cell_type": "code",
   "execution_count": 3,
   "metadata": {},
   "outputs": [],
   "source": [
    "# Your code heret\n",
    "tup = \"I\",\n",
    "\n"
   ]
  },
  {
   "cell_type": "markdown",
   "metadata": {},
   "source": [
    "#### Print the type of `tup`. \n",
    "\n",
    "Make sure its type is correct (i.e. *tuple* instead of *str*)."
   ]
  },
  {
   "cell_type": "code",
   "execution_count": 4,
   "metadata": {},
   "outputs": [
    {
     "data": {
      "text/plain": [
       "tuple"
      ]
     },
     "execution_count": 4,
     "metadata": {},
     "output_type": "execute_result"
    }
   ],
   "source": [
    "# Your code here\n",
    "type(tup)"
   ]
  },
  {
   "cell_type": "markdown",
   "metadata": {},
   "source": [
    "#### Now try to append the following elements to `tup`. \n",
    "\n",
    "Are you able to do it? Explain.\n",
    "\n",
    "```\n",
    "\"r\", \"o\", \"n\", \"h\", \"a\", \"c\", \"k',\n",
    "```"
   ]
  },
  {
   "cell_type": "code",
   "execution_count": 15,
   "metadata": {},
   "outputs": [
    {
     "ename": "TypeError",
     "evalue": "'list' object is not callable",
     "output_type": "error",
     "traceback": [
      "\u001b[0;31m---------------------------------------------------------------------------\u001b[0m",
      "\u001b[0;31mTypeError\u001b[0m                                 Traceback (most recent call last)",
      "\u001b[1;32m/Users/jaimemac/Documents/Github Access/Ejercicios-Clase-Semana1/1.2-lab-tuple-set-dict/your-code/Solutions.ipynb Celda 7\u001b[0m in \u001b[0;36m<cell line: 3>\u001b[0;34m()\u001b[0m\n\u001b[1;32m      <a href='vscode-notebook-cell:/Users/jaimemac/Documents/Github%20Access/Ejercicios-Clase-Semana1/1.2-lab-tuple-set-dict/your-code/Solutions.ipynb#ch0000006?line=0'>1</a>\u001b[0m \u001b[39m# Your code here\u001b[39;00m\n\u001b[1;32m      <a href='vscode-notebook-cell:/Users/jaimemac/Documents/Github%20Access/Ejercicios-Clase-Semana1/1.2-lab-tuple-set-dict/your-code/Solutions.ipynb#ch0000006?line=1'>2</a>\u001b[0m tupel \u001b[39m=\u001b[39m ( \u001b[39m\"\u001b[39m\u001b[39mr\u001b[39m\u001b[39m\"\u001b[39m, \u001b[39m\"\u001b[39m\u001b[39mo\u001b[39m\u001b[39m\"\u001b[39m, \u001b[39m\"\u001b[39m\u001b[39mn\u001b[39m\u001b[39m\"\u001b[39m, \u001b[39m\"\u001b[39m\u001b[39mh\u001b[39m\u001b[39m\"\u001b[39m, \u001b[39m\"\u001b[39m\u001b[39ma\u001b[39m\u001b[39m\"\u001b[39m, \u001b[39m\"\u001b[39m\u001b[39mc\u001b[39m\u001b[39m\"\u001b[39m, \u001b[39m\"\u001b[39m\u001b[39mk\u001b[39m\u001b[39m\"\u001b[39m)\n\u001b[0;32m----> <a href='vscode-notebook-cell:/Users/jaimemac/Documents/Github%20Access/Ejercicios-Clase-Semana1/1.2-lab-tuple-set-dict/your-code/Solutions.ipynb#ch0000006?line=2'>3</a>\u001b[0m tupelist \u001b[39m=\u001b[39m \u001b[39mlist\u001b[39;49m(tupel)\n\u001b[1;32m      <a href='vscode-notebook-cell:/Users/jaimemac/Documents/Github%20Access/Ejercicios-Clase-Semana1/1.2-lab-tuple-set-dict/your-code/Solutions.ipynb#ch0000006?line=4'>5</a>\u001b[0m \u001b[39mprint\u001b[39m(\u001b[39mtype\u001b[39m(tupelist))\n",
      "\u001b[0;31mTypeError\u001b[0m: 'list' object is not callable"
     ]
    }
   ],
   "source": [
    "# Your code here\n",
    "tupel = ( 1, 2, 3, 4, 5)\n",
    "tupel.append( \"r\")\n",
    "\n",
    "# Your explanation here\n",
    "'''No you cant append in tupel since is inmutable list, this means that to be able to append on it \n",
    "you need to change it into a list first'''"
   ]
  },
  {
   "cell_type": "markdown",
   "metadata": {},
   "source": [
    "#### How about re-assign a new value to an existing tuple?\n",
    "\n",
    "Re-assign the following elements to `tup`. Are you able to do it? Explain.\n",
    "\n",
    "```\n",
    "\"I\", \"r\", \"o\", \"n\", \"h\", \"a\", \"c\", \"k\"\n",
    "```"
   ]
  },
  {
   "cell_type": "code",
   "execution_count": 19,
   "metadata": {},
   "outputs": [
    {
     "name": "stdout",
     "output_type": "stream",
     "text": [
      "(10, 'r', 'o', 'n', 'h', 'a', 'c', 'k')\n"
     ]
    }
   ],
   "source": [
    "# Your code here\n",
    "LIST= ( \"I\", \"r\", \"o\", \"n\", \"h\", \"a\", \"c\", \"k\")\n",
    "\n",
    "b = (10,) + LIST[1:]  \n",
    "print (b)\n",
    "\n",
    "\n",
    "# Your explanation here\n",
    "\n",
    "''' you can re-assing a item in the tupel to a different one, but you cant add or remove'''\n"
   ]
  },
  {
   "cell_type": "markdown",
   "metadata": {},
   "source": [
    "#### Split `tup` into `tup1` and `tup2` with 4 elements in each. \n",
    "\n",
    "`tup1` should be `(\"I\", \"r\", \"o\", \"n\")` and `tup2` should be `(\"h\", \"a\", \"c\", \"k\")`.\n",
    "\n",
    "*Hint: use positive index numbers for `tup1` assignment and use negative index numbers for `tup2` assignment. Positive index numbers count from the beginning whereas negative index numbers count from the end of the sequence.*\n",
    "\n",
    "Also print `tup1` and `tup2`."
   ]
  },
  {
   "cell_type": "code",
   "execution_count": 32,
   "metadata": {},
   "outputs": [
    {
     "name": "stdout",
     "output_type": "stream",
     "text": [
      "('I', 'r', 'o', 'n')\n",
      "('h', 'a', 'c', 'k')\n",
      "('I', 'r', 'o', 'n')\n"
     ]
    }
   ],
   "source": [
    "# Your code here\n",
    "list2= ( \"I\", \"r\", \"o\", \"n\", \"h\", \"a\", \"c\", \"k\")\n",
    "tup1 = list2 [0:4]\n",
    "tup2 = list2[-4:8]\n",
    "print(list2[0:4])\n",
    "print (list2[-4:8])\n",
    "\n"
   ]
  },
  {
   "cell_type": "markdown",
   "metadata": {},
   "source": [
    "#### Add `tup1` and `tup2` into `tup3` using the `+` operator.\n",
    "\n",
    "Then print `tup3` and check if `tup3` equals to `tup`."
   ]
  },
  {
   "cell_type": "code",
   "execution_count": 33,
   "metadata": {},
   "outputs": [
    {
     "name": "stdout",
     "output_type": "stream",
     "text": [
      "('I', 'r', 'o', 'n', 'h', 'a', 'c', 'k')\n"
     ]
    }
   ],
   "source": [
    "# Your code here\n",
    "tupelmother3= tup1 + tup2\n",
    "print (tupelmother3)\n",
    "\n"
   ]
  },
  {
   "cell_type": "markdown",
   "metadata": {},
   "source": [
    "#### Count the number of elements in `tup1` and `tup2`. Then add the two counts together and check if the sum is the same as the number of elements in `tup3`."
   ]
  },
  {
   "cell_type": "code",
   "execution_count": 36,
   "metadata": {},
   "outputs": [
    {
     "name": "stdout",
     "output_type": "stream",
     "text": [
      "8\n",
      "8\n"
     ]
    }
   ],
   "source": [
    "# Your code here\n",
    "print(len ( tupelmother3))\n",
    "Trialtup = len (tup1) + len (tup2)\n",
    "print (Trialtup)"
   ]
  },
  {
   "cell_type": "markdown",
   "metadata": {},
   "source": [
    "#### What is the index number of `\"h\"` in `tup3`?"
   ]
  },
  {
   "cell_type": "code",
   "execution_count": 38,
   "metadata": {},
   "outputs": [
    {
     "name": "stdout",
     "output_type": "stream",
     "text": [
      "Index of h: 4\n"
     ]
    }
   ],
   "source": [
    "# Your code here\n",
    "index = tupelmother3.index('h')\n",
    "\n",
    "print('Index of h:', index)"
   ]
  },
  {
   "cell_type": "markdown",
   "metadata": {},
   "source": [
    "#### Now, use a FOR loop to check whether each letter in the following list is present in `tup3`:\n",
    "\n",
    "```\n",
    "letters = [\"a\", \"b\", \"c\", \"d\", \"e\"]\n",
    "```\n",
    "\n",
    "For each letter you check, print `True` if it is present in `tup3` otherwise print `False`.\n",
    "\n",
    "*Hint: you only need to loop `letters`. You don't need to loop `tup3` because there is a Python operator `in` you can use. See [reference](https://stackoverflow.com/questions/17920147/how-to-check-if-a-tuple-contains-an-element-in-python).*"
   ]
  },
  {
   "cell_type": "code",
   "execution_count": 41,
   "metadata": {},
   "outputs": [
    {
     "name": "stdout",
     "output_type": "stream",
     "text": [
      "false\n",
      "false\n",
      "false\n",
      "false\n",
      "false\n"
     ]
    }
   ],
   "source": [
    "# Your code here\n",
    "letters = [\"a\", \"b\", \"c\", \"d\", \"e\"]\n",
    "\n",
    "for i in letters:\n",
    "    if i == letters:\n",
    "        print ('true')\n",
    "    else:\n",
    "        print('false')\n"
   ]
  },
  {
   "cell_type": "markdown",
   "metadata": {},
   "source": [
    "#### How many times does each letter in `letters` appear in `tup3`?\n",
    "\n",
    "Print out the number of occurrence of each letter."
   ]
  },
  {
   "cell_type": "code",
   "execution_count": 44,
   "metadata": {},
   "outputs": [
    {
     "name": "stdout",
     "output_type": "stream",
     "text": [
      "not repeated\n",
      "not repeated\n",
      "not repeated\n",
      "not repeated\n",
      "not repeated\n"
     ]
    }
   ],
   "source": [
    "# Your code here\n",
    "letters = [\"a\", \"b\", \"c\", \"d\", \"e\"]\n",
    "\n",
    "for i in letters:\n",
    "    if letters.count(i) >1:\n",
    "        print ('repeated')\n",
    "    else:\n",
    "        print('not repeated')"
   ]
  },
  {
   "cell_type": "markdown",
   "metadata": {},
   "source": [
    "## Challenge 2: Sets\n",
    "\n",
    "There are a lot to learn about Python Sets and the information presented in the lesson is limited due to its length. To learn Python Sets in depth you are strongly encouraged to review the W3Schools tutorial on [Python Sets Examples and Methods](https://www.w3schools.com/python/python_sets.asp) before you work on this lab. Some difficult questions in this lab have their solutions in the W3Schools tutorial.\n",
    "\n",
    "#### First, import the Python `random` library."
   ]
  },
  {
   "cell_type": "code",
   "execution_count": 45,
   "metadata": {},
   "outputs": [],
   "source": [
    "import random"
   ]
  },
  {
   "cell_type": "markdown",
   "metadata": {},
   "source": [
    "#### In the cell below, create a list named `sample_list_1` with 80 random values. \n",
    "\n",
    "Requirements:\n",
    "\n",
    "* Each value is an integer falling between 0 and 100.\n",
    "* Each value in the list is unique.\n",
    "\n",
    "Print `sample_list_1` to review its values\n",
    "\n",
    "*Hint: use `random.sample` ([reference](https://docs.python.org/3/library/random.html#random.sample)).*"
   ]
  },
  {
   "cell_type": "code",
   "execution_count": 51,
   "metadata": {},
   "outputs": [
    {
     "name": "stdout",
     "output_type": "stream",
     "text": [
      "[65, 76, 92, 24, 29, 35, 57, 46, 48, 99, 86, 15, 91, 85, 63, 98, 23, 97, 78, 96, 26, 47, 27, 40, 25, 79, 3, 21, 75, 1, 93, 54, 49, 51, 11, 16, 59, 73, 58, 37, 62, 38, 84, 67, 14, 70, 90, 64, 30, 53, 55, 17, 20, 10, 50, 74, 18, 32, 88, 31, 60, 9, 13, 0, 95, 39, 43, 45, 41, 82, 33, 56, 94, 5, 34, 4, 72, 36, 8, 69]\n"
     ]
    }
   ],
   "source": [
    "# Your code here\n",
    "from random import sample\n",
    "\n",
    "\n",
    "sample_list_1= random.sample(range(0, 100), k= 80 )\n",
    "print( sample_list_1)\n"
   ]
  },
  {
   "cell_type": "markdown",
   "metadata": {},
   "source": [
    "#### Convert `sample_list_1` to a set called `set1`. Print the length of the set. Is its length still 80?"
   ]
  },
  {
   "cell_type": "code",
   "execution_count": 70,
   "metadata": {},
   "outputs": [
    {
     "name": "stdout",
     "output_type": "stream",
     "text": [
      "{0, 1, 3, 4, 5, 8, 9, 10, 11, 13, 14, 15, 16, 17, 18, 20, 21, 23, 24, 25, 26, 27, 29, 30, 31, 32, 33, 34, 35, 36, 37, 38, 39, 40, 41, 43, 45, 46, 47, 48, 49, 50, 51, 53, 54, 55, 56, 57, 58, 59, 60, 62, 63, 64, 65, 67, 69, 70, 72, 73, 74, 75, 76, 78, 79, 82, 84, 85, 86, 88, 90, 91, 92, 93, 94, 95, 96, 97, 98, 99}\n",
      "80\n"
     ]
    },
    {
     "data": {
      "text/plain": [
       "'yes'"
      ]
     },
     "execution_count": 70,
     "metadata": {},
     "output_type": "execute_result"
    }
   ],
   "source": [
    "# Your code here\n",
    "set1  = set(sample_list_1)\n",
    "print(set1)\n",
    "print(len(set1))\n",
    "\n",
    "'''yes'''"
   ]
  },
  {
   "cell_type": "markdown",
   "metadata": {},
   "source": [
    "#### Create another list named `sample_list_2` with 80 random values.\n",
    "\n",
    "Requirements:\n",
    "\n",
    "* Each value is an integer falling between 0 and 100.\n",
    "* The values in the list don't have to be unique.\n",
    "\n",
    "*Hint: Use a FOR loop.*"
   ]
  },
  {
   "cell_type": "code",
   "execution_count": 69,
   "metadata": {},
   "outputs": [
    {
     "name": "stdout",
     "output_type": "stream",
     "text": [
      "[83, 30, 84, 68, 82, 76, 81, 92, 88, 20, 21, 10, 63, 23, 80, 43, 55, 58, 67, 79, 52, 14, 89, 91, 6, 24, 96, 18, 87, 44, 42, 36, 53, 2, 28, 59, 78, 35, 46, 85, 15, 69, 11, 73, 7, 38, 22, 86, 75, 13, 54, 16, 33, 3, 57, 25, 98, 4, 26, 39, 5, 17, 60, 37, 97, 51, 64, 66, 71, 72, 62, 90, 74, 8, 29, 49, 95, 45, 99, 9]\n"
     ]
    }
   ],
   "source": [
    "# Your code here\n",
    "\n",
    "sample_list_2 = random.sample(range(100), 80)\n",
    "random.shuffle(sample_list_2)\n",
    "print(sample_list_2)\n",
    "\n"
   ]
  },
  {
   "cell_type": "markdown",
   "metadata": {},
   "source": [
    "#### Convert `sample_list_2` to a set called `set2`. Print the length of the set. Is its length still 80?"
   ]
  },
  {
   "cell_type": "code",
   "execution_count": 71,
   "metadata": {},
   "outputs": [
    {
     "name": "stdout",
     "output_type": "stream",
     "text": [
      "{2, 3, 4, 5, 6, 7, 8, 9, 10, 11, 13, 14, 15, 16, 17, 18, 20, 21, 22, 23, 24, 25, 26, 28, 29, 30, 33, 35, 36, 37, 38, 39, 42, 43, 44, 45, 46, 49, 51, 52, 53, 54, 55, 57, 58, 59, 60, 62, 63, 64, 66, 67, 68, 69, 71, 72, 73, 74, 75, 76, 78, 79, 80, 81, 82, 83, 84, 85, 86, 87, 88, 89, 90, 91, 92, 95, 96, 97, 98, 99}\n",
      "80\n"
     ]
    }
   ],
   "source": [
    "# Your code here\n",
    "set2  = set(sample_list_2)\n",
    "print(set2)\n",
    "print(len(set2))"
   ]
  },
  {
   "cell_type": "markdown",
   "metadata": {},
   "source": [
    "#### Identify the elements present in `set1` but not in `set2`. Assign the elements to a new set named `set3`."
   ]
  },
  {
   "cell_type": "code",
   "execution_count": 74,
   "metadata": {},
   "outputs": [
    {
     "name": "stdout",
     "output_type": "stream",
     "text": [
      "{3, 4, 5, 8, 9, 10, 11, 13, 14, 15, 16, 17, 18, 20, 21, 23, 24, 25, 26, 29, 30, 33, 35, 36, 37, 38, 39, 43, 45, 46, 49, 51, 53, 54, 55, 57, 58, 59, 60, 62, 63, 64, 67, 69, 72, 73, 74, 75, 76, 78, 79, 82, 84, 85, 86, 88, 90, 91, 92, 95, 96, 97, 98, 99}\n",
      "64\n"
     ]
    }
   ],
   "source": [
    "# Your code here\n",
    "set3 = set1.intersection(set2)\n",
    "print( set3)\n",
    "print (len(set3))\n"
   ]
  },
  {
   "cell_type": "markdown",
   "metadata": {},
   "source": [
    "#### Identify the elements present in `set2` but not in `set1`. Assign the elements to a new set named `set4`."
   ]
  },
  {
   "cell_type": "code",
   "execution_count": 75,
   "metadata": {},
   "outputs": [
    {
     "name": "stdout",
     "output_type": "stream",
     "text": [
      "{3, 4, 5, 8, 9, 10, 11, 13, 14, 15, 16, 17, 18, 20, 21, 23, 24, 25, 26, 29, 30, 33, 35, 36, 37, 38, 39, 43, 45, 46, 49, 51, 53, 54, 55, 57, 58, 59, 60, 62, 63, 64, 67, 69, 72, 73, 74, 75, 76, 78, 79, 82, 84, 85, 86, 88, 90, 91, 92, 95, 96, 97, 98, 99}\n",
      "64\n"
     ]
    }
   ],
   "source": [
    "# Your code here\n",
    "set4 = set2.intersection(set1)\n",
    "print( set4)\n",
    "print (len(set4))"
   ]
  },
  {
   "cell_type": "markdown",
   "metadata": {},
   "source": [
    "#### Now Identify the elements shared between `set1` and `set2`. Assign the elements to a new set named `set5`."
   ]
  },
  {
   "cell_type": "code",
   "execution_count": 80,
   "metadata": {},
   "outputs": [
    {
     "name": "stdout",
     "output_type": "stream",
     "text": [
      "{0, 1, 2, 3, 4, 5, 6, 7, 8, 9, 10, 11, 13, 14, 15, 16, 17, 18, 20, 21, 22, 23, 24, 25, 26, 27, 28, 29, 30, 31, 32, 33, 34, 35, 36, 37, 38, 39, 40, 41, 42, 43, 44, 45, 46, 47, 48, 49, 50, 51, 52, 53, 54, 55, 56, 57, 58, 59, 60, 62, 63, 64, 65, 66, 67, 68, 69, 70, 71, 72, 73, 74, 75, 76, 78, 79, 80, 81, 82, 83, 84, 85, 86, 87, 88, 89, 90, 91, 92, 93, 94, 95, 96, 97, 98, 99}\n",
      "96\n"
     ]
    }
   ],
   "source": [
    "# Your code here\n",
    "set5 = set1.union(set2)\n",
    "print (set5)\n",
    "print(len(set5))"
   ]
  },
  {
   "cell_type": "markdown",
   "metadata": {},
   "source": [
    "#### What is the relationship among the following values:\n",
    "\n",
    "* len(set1)\n",
    "* len(set2)\n",
    "* len(set3)\n",
    "* len(set4)\n",
    "* len(set5)\n",
    "\n",
    "Use a math formular to represent that relationship. Test your formular with Python code."
   ]
  },
  {
   "cell_type": "code",
   "execution_count": 83,
   "metadata": {},
   "outputs": [
    {
     "name": "stdout",
     "output_type": "stream",
     "text": [
      "80\n",
      "80\n",
      "64\n",
      "64\n",
      "96\n",
      "64\n"
     ]
    }
   ],
   "source": [
    "# Your code here\n",
    "print(len(set1))\n",
    "print(len(set2))\n",
    "print(len(set3))\n",
    "print(len(set4))\n",
    "print(len(set5))\n",
    "\n",
    "relationship= len (set1) - len(set2) + len(set3)\n",
    "print( relationship)\n",
    "\n"
   ]
  },
  {
   "cell_type": "markdown",
   "metadata": {},
   "source": [
    "#### Create an empty set called `set6`."
   ]
  },
  {
   "cell_type": "code",
   "execution_count": 92,
   "metadata": {},
   "outputs": [],
   "source": [
    "# Your code here\n",
    "\n",
    "set_6 = { }"
   ]
  },
  {
   "cell_type": "markdown",
   "metadata": {},
   "source": [
    "#### Add `set3` and `set5` to `set6` using the Python Set `update` method."
   ]
  },
  {
   "cell_type": "code",
   "execution_count": 103,
   "metadata": {},
   "outputs": [
    {
     "name": "stdout",
     "output_type": "stream",
     "text": [
      "None\n"
     ]
    }
   ],
   "source": [
    "# Your code here - no consigo que acepte set_6 como variable \n",
    "\n",
    "set_6= set.update(set3, set5)\n",
    "print (set_6)"
   ]
  },
  {
   "cell_type": "markdown",
   "metadata": {},
   "source": [
    "#### Check if `set1` and `set6` are equal."
   ]
  },
  {
   "cell_type": "code",
   "execution_count": 100,
   "metadata": {},
   "outputs": [
    {
     "ename": "NameError",
     "evalue": "name 'set_6' is not defined",
     "output_type": "error",
     "traceback": [
      "\u001b[0;31m---------------------------------------------------------------------------\u001b[0m",
      "\u001b[0;31mNameError\u001b[0m                                 Traceback (most recent call last)",
      "\u001b[1;32m/Users/jaimemac/Documents/Github Access/Ejercicios-Clase-Semana1/1.2-lab-tuple-set-dict/your-code/Solutions.ipynb Celda 45\u001b[0m in \u001b[0;36m<cell line: 2>\u001b[0;34m()\u001b[0m\n\u001b[1;32m      <a href='vscode-notebook-cell:/Users/jaimemac/Documents/Github%20Access/Ejercicios-Clase-Semana1/1.2-lab-tuple-set-dict/your-code/Solutions.ipynb#ch0000044?line=0'>1</a>\u001b[0m \u001b[39m# Your code here\u001b[39;00m\n\u001b[0;32m----> <a href='vscode-notebook-cell:/Users/jaimemac/Documents/Github%20Access/Ejercicios-Clase-Semana1/1.2-lab-tuple-set-dict/your-code/Solutions.ipynb#ch0000044?line=1'>2</a>\u001b[0m set1 \u001b[39m==\u001b[39m set_6\n",
      "\u001b[0;31mNameError\u001b[0m: name 'set_6' is not defined"
     ]
    }
   ],
   "source": [
    "# Your code here\n",
    "set1 == set_6"
   ]
  },
  {
   "cell_type": "markdown",
   "metadata": {},
   "source": [
    "#### Check if `set1` contains `set2` using the Python Set `issubset` method. Then check if `set1` contains `set3`.*"
   ]
  },
  {
   "cell_type": "code",
   "execution_count": 106,
   "metadata": {},
   "outputs": [
    {
     "name": "stdout",
     "output_type": "stream",
     "text": [
      "False\n",
      "True\n"
     ]
    }
   ],
   "source": [
    "# Your code here\n",
    "x= set1.issubset(set2)\n",
    "print (x)\n",
    "y= set1.issubset(set3)\n",
    "print (y)"
   ]
  },
  {
   "cell_type": "markdown",
   "metadata": {},
   "source": [
    "#### Using the Python Set `union` method, aggregate `set3`, `set4`, and `set5`. Then aggregate `set1` and `set2`. "
   ]
  },
  {
   "cell_type": "code",
   "execution_count": 108,
   "metadata": {},
   "outputs": [
    {
     "name": "stdout",
     "output_type": "stream",
     "text": [
      "{0, 1, 2, 3, 4, 5, 6, 7, 8, 9, 10, 11, 13, 14, 15, 16, 17, 18, 20, 21, 22, 23, 24, 25, 26, 27, 28, 29, 30, 31, 32, 33, 34, 35, 36, 37, 38, 39, 40, 41, 42, 43, 44, 45, 46, 47, 48, 49, 50, 51, 52, 53, 54, 55, 56, 57, 58, 59, 60, 62, 63, 64, 65, 66, 67, 68, 69, 70, 71, 72, 73, 74, 75, 76, 78, 79, 80, 81, 82, 83, 84, 85, 86, 87, 88, 89, 90, 91, 92, 93, 94, 95, 96, 97, 98, 99}\n"
     ]
    }
   ],
   "source": [
    "# Your code here\n",
    "union = set3.union(set4, set5,set1, set2)\n",
    "print (union)"
   ]
  },
  {
   "cell_type": "markdown",
   "metadata": {},
   "source": [
    "#### Check if the aggregated values are equal."
   ]
  },
  {
   "cell_type": "code",
   "execution_count": 112,
   "metadata": {},
   "outputs": [
    {
     "name": "stdout",
     "output_type": "stream",
     "text": [
      "false\n",
      "false\n",
      "false\n",
      "false\n",
      "false\n",
      "false\n",
      "false\n",
      "false\n",
      "false\n",
      "false\n",
      "false\n",
      "false\n",
      "false\n",
      "false\n",
      "false\n",
      "false\n",
      "false\n",
      "false\n",
      "false\n",
      "false\n",
      "false\n",
      "false\n",
      "false\n",
      "false\n",
      "false\n",
      "false\n",
      "false\n",
      "false\n",
      "false\n",
      "false\n",
      "false\n",
      "false\n",
      "false\n",
      "false\n",
      "false\n",
      "false\n",
      "false\n",
      "false\n",
      "false\n",
      "false\n",
      "false\n",
      "false\n",
      "false\n",
      "false\n",
      "false\n",
      "false\n",
      "false\n",
      "false\n",
      "false\n",
      "false\n",
      "false\n",
      "false\n",
      "false\n",
      "false\n",
      "false\n",
      "false\n",
      "false\n",
      "false\n",
      "false\n",
      "false\n",
      "false\n",
      "false\n",
      "false\n",
      "false\n",
      "false\n",
      "false\n",
      "false\n",
      "false\n",
      "false\n",
      "false\n",
      "false\n",
      "false\n",
      "false\n",
      "false\n",
      "false\n",
      "false\n",
      "false\n",
      "false\n",
      "false\n",
      "false\n",
      "false\n",
      "false\n",
      "false\n",
      "false\n",
      "false\n",
      "false\n",
      "false\n",
      "false\n",
      "false\n",
      "false\n",
      "false\n",
      "false\n",
      "false\n",
      "false\n",
      "false\n",
      "false\n"
     ]
    },
    {
     "data": {
      "text/plain": [
       "'queria comprobar contra set_6 pero al no conseguir que haga el aggregat pues esta vacio\\ny por otro lado se pueden incluir elifs para el resto de sets'"
      ]
     },
     "execution_count": 112,
     "metadata": {},
     "output_type": "execute_result"
    }
   ],
   "source": [
    "# Your code here\n",
    "\n",
    "for i in set5:\n",
    "    if i == set1:\n",
    "        print('true')\n",
    "    elif i == set2:\n",
    "        print('true')\n",
    "    else:\n",
    "        print('false')\n",
    "    \n",
    "'''queria comprobar contra set_6 pero al no conseguir que haga el aggregat pues esta vacio\n",
    "y por otro lado se pueden incluir elifs para el resto de sets'''"
   ]
  },
  {
   "cell_type": "markdown",
   "metadata": {},
   "source": [
    "#### Using the `pop` method, remove the first element from `set1`."
   ]
  },
  {
   "cell_type": "code",
   "execution_count": 147,
   "metadata": {},
   "outputs": [
    {
     "name": "stdout",
     "output_type": "stream",
     "text": [
      "[0, 1, 3, 4, 5, 8, 9, 10, 11, 13, 14, 15, 16, 17, 18, 20, 21, 23, 24, 25, 26, 27, 29, 30, 31, 32, 33, 34, 35, 36, 37, 38, 39, 40, 41, 43, 45, 46, 47, 48, 49, 50, 51, 53, 54, 55, 56, 57, 58, 59, 60, 62, 63, 64, 65, 67, 69, 70, 72, 73, 74, 75, 76, 78, 79, 82, 84, 85, 86, 88, 90, 91, 92, 93, 94, 95, 96, 97, 98, 99]\n"
     ]
    }
   ],
   "source": [
    "# Your code here\n",
    "set1 = {0, 1, 3, 4, 5, 8, 9, 10, 11, 13, 14, 15, 16, 17, 18, 20, 21, 23, 24, 25, 26, 27, 29, 30, 31, 32, 33, 34, 35, 36, 37, 38, 39, 40, 41, 43, 45, 46, 47, 48, 49, 50, 51, 53, 54, 55, 56, 57, 58, 59, 60, 62, 63, 64, 65, 67, 69, 70, 72, 73, 74, 75, 76, 78, 79, 82, 84, 85, 86, 88, 90, 91, 92, 93, 94, 95, 96, 97, 98, 99}\n",
    "\n",
    "l = []\n",
    "for i in set1:\n",
    "    l.append(i)\n",
    "\n",
    "print(l)\n",
    "\n",
    "\n",
    "\n",
    "\n",
    "\n"
   ]
  },
  {
   "cell_type": "markdown",
   "metadata": {},
   "source": [
    "#### Remove every element in the following list from `set1` if they are present in the set. Print the remaining elements.\n",
    "\n",
    "```\n",
    "list_to_remove = [1, 9, 11, 19, 21, 29, 31, 39, 41, 49, 51, 59, 61, 69, 71, 79, 81, 89, 91, 99]\n",
    "```"
   ]
  },
  {
   "cell_type": "code",
   "execution_count": 173,
   "metadata": {},
   "outputs": [
    {
     "name": "stdout",
     "output_type": "stream",
     "text": [
      "[0, 3, 4, 5, 8, 10, 13, 14, 15, 16, 17, 18, 20, 23, 24, 25, 26, 27, 30, 32, 33, 34, 35, 36, 37, 38, 40, 43, 45, 46, 47, 48, 50, 53, 54, 55, 56, 57, 58, 60, 62, 63, 64, 65, 67, 70, 72, 73, 74, 75, 76, 78, 82, 84, 85, 86, 88, 90, 92, 93, 94, 95, 96, 97, 98]\n"
     ]
    },
    {
     "data": {
      "text/plain": [
       "'\\nfor i in list_to_remove:\\n    if i == set1:\\n        set1.remove (i)\\n        print (i )'"
      ]
     },
     "execution_count": 173,
     "metadata": {},
     "output_type": "execute_result"
    }
   ],
   "source": [
    "# Your code here\n",
    "list_to_remove = [1, 9, 11, 19, 21, 29, 31, 39, 41, 49, 51, 59, 61, 69, 71, 79, 81, 89, 91, 99]\n",
    "list1= [0, 1, 3, 4, 5, 8, 9, 10, 11, 13, 14, 15, 16, 17, 18, 20, 21, 23, 24, 25, 26, 27, 29, 30, 31, 32, 33, 34, 35, 36, 37, 38, 39, 40, 41, 43, 45, 46, 47, 48, 49, 50, 51, 53, 54, 55, 56, 57, 58, 59, 60, 62, 63, 64, 65, 67, 69, 70, 72, 73, 74, 75, 76, 78, 79, 82, 84, 85, 86, 88, 90, 91, 92, 93, 94, 95, 96, 97, 98, 99]\n",
    "\n",
    "l3 = [x for x in list1 if x not in list_to_remove]\n",
    "print (l3)\n",
    "\n",
    "\n",
    "'''\n",
    "for i in list_to_remove:\n",
    "    if i == set1:\n",
    "        set1.remove (i)\n",
    "        print (i )'''\n",
    "\n",
    "\n",
    "\n",
    "    \n"
   ]
  },
  {
   "cell_type": "markdown",
   "metadata": {},
   "source": [
    "## Challenge 3: Dictionaries\n",
    "\n",
    "In this challenge you will practice how to manipulate Python dictionaries. Before starting on this challenge, you are encouraged to review W3School's [Python Dictionary Examples and Methods](https://www.w3schools.com/python/python_dictionaries.asp).\n",
    "\n",
    "First thing you will practice is how to sort the keys in a dictionary. Unlike the list object, Python dictionary does not have a built-in *sort* method. You'll need to use FOR loops to to sort dictionaries either by key or by value.\n",
    "\n",
    "The dictionary below is a summary of the word frequency of Ed Sheeran's song *Shape of You*. Each key is a word in the lyrics and the value is the number of times that word appears in the lyrics."
   ]
  },
  {
   "cell_type": "code",
   "execution_count": 202,
   "metadata": {},
   "outputs": [],
   "source": [
    "word_freq = {'love': 25, 'conversation': 1, 'every': 6, \"we're\": 1, 'plate': 1, 'sour': 1, 'jukebox': 1, 'now': 11, 'taxi': 1, 'fast': 1, 'bag': 1, 'man': 1, 'push': 3, 'baby': 14, 'going': 1, 'you': 16, \"don't\": 2, 'one': 1, 'mind': 2, 'backseat': 1, 'friends': 1, 'then': 3, 'know': 2, 'take': 1, 'play': 1, 'okay': 1, 'so': 2, 'begin': 1, 'start': 2, 'over': 1, 'body': 17, 'boy': 2, 'just': 1, 'we': 7, 'are': 1, 'girl': 2, 'tell': 1, 'singing': 2, 'drinking': 1, 'put': 3, 'our': 1, 'where': 1, \"i'll\": 1, 'all': 1, \"isn't\": 1, 'make': 1, 'lover': 1, 'get': 1, 'radio': 1, 'give': 1, \"i'm\": 23, 'like': 10, 'can': 1, 'doing': 2, 'with': 22, 'club': 1, 'come': 37, 'it': 1, 'somebody': 2, 'handmade': 2, 'out': 1, 'new': 6, 'room': 3, 'chance': 1, 'follow': 6, 'in': 27, 'may': 2, 'brand': 6, 'that': 2, 'magnet': 3, 'up': 3, 'first': 1, 'and': 23, 'pull': 3, 'of': 6, 'table': 1, 'much': 2, 'last': 3, 'i': 6, 'thrifty': 1, 'grab': 2, 'was': 2, 'driver': 1, 'slow': 1, 'dance': 1, 'the': 18, 'say': 2, 'trust': 1, 'family': 1, 'week': 1, 'date': 1, 'me': 10, 'do': 3, 'waist': 2, 'smell': 3, 'day': 6, 'although': 3, 'your': 21, 'leave': 1, 'want': 2, \"let's\": 2, 'lead': 6, 'at': 1, 'hand': 1, 'how': 1, 'talk': 4, 'not': 2, 'eat': 1, 'falling': 3, 'about': 1, 'story': 1, 'sweet': 1, 'best': 1, 'crazy': 2, 'let': 1, 'too': 5, 'van': 1, 'shots': 1, 'go': 2, 'to': 2, 'a': 8, 'my': 33, 'is': 5, 'place': 1, 'find': 1, 'shape': 6, 'on': 40, 'kiss': 1, 'were': 3, 'night': 3, 'heart': 3, 'for': 3, 'discovering': 6, 'something': 6, 'be': 16, 'bedsheets': 3, 'fill': 2, 'hours': 2, 'stop': 1, 'bar': 1}"
   ]
  },
  {
   "cell_type": "markdown",
   "metadata": {},
   "source": [
    "#### Sort the keys of `word_freq` ascendingly.\n",
    "\n",
    "Please create a new dictionary called `word_freq2` based on `word_freq` with the keys sorted ascedingly.\n",
    "\n",
    "There are several ways to achieve that goal but many of the ways are beyond what we have covered so far in the course. There is one way that we'll describe employing what you have learned. Please feel free to use this way or any other way you want.\n",
    "\n",
    "1. First extract the keys of `word_freq` and convert it to a list called `keys`.\n",
    "\n",
    "1. Sort the `keys` list.\n",
    "\n",
    "1. Create an empty dictionary `word_freq2`.\n",
    "\n",
    "1. Use a FOR loop to iterate each value in `keys`. For each key iterated, find the corresponding value in `word_freq` and insert the key-value pair to `word_freq2`.\n",
    "\n",
    "Print out `word_freq2` to examine its keys and values. Your output should be:\n",
    "\n",
    "```python\n",
    "{'a': 8, 'about': 1, 'all': 1, 'although': 3, 'and': 23, 'are': 1, 'at': 1, 'baby': 14, 'backseat': 1, 'bag': 1, 'bar': 1, 'be': 16, 'bedsheets': 3, 'begin': 1, 'best': 1, 'body': 17, 'boy': 2, 'brand': 6, 'can': 1, 'chance': 1, 'club': 1, 'come': 37, 'conversation': 1, 'crazy': 2, 'dance': 1, 'date': 1, 'day': 6, 'discovering': 6, 'do': 3, 'doing': 2, \"don't\": 2, 'drinking': 1, 'driver': 1, 'eat': 1, 'every': 6, 'falling': 3, 'family': 1, 'fast': 1, 'fill': 2, 'find': 1, 'first': 1, 'follow': 6, 'for': 3, 'friends': 1, 'get': 1, 'girl': 2, 'give': 1, 'go': 2, 'going': 1, 'grab': 2, 'hand': 1, 'handmade': 2, 'heart': 3, 'hours': 2, 'how': 1, 'i': 6, \"i'll\": 1, \"i'm\": 23, 'in': 27, 'is': 5, \"isn't\": 1, 'it': 1, 'jukebox': 1, 'just': 1, 'kiss': 1, 'know': 2, 'last': 3, 'lead': 6, 'leave': 1, 'let': 1, \"let's\": 2, 'like': 10, 'love': 25, 'lover': 1, 'magnet': 3, 'make': 1, 'man': 1, 'may': 2, 'me': 10, 'mind': 2, 'much': 2, 'my': 33, 'new': 6, 'night': 3, 'not': 2, 'now': 11, 'of': 6, 'okay': 1, 'on': 40, 'one': 1, 'our': 1, 'out': 1, 'over': 1, 'place': 1, 'plate': 1, 'play': 1, 'pull': 3, 'push': 3, 'put': 3, 'radio': 1, 'room': 3, 'say': 2, 'shape': 6, 'shots': 1, 'singing': 2, 'slow': 1, 'smell': 3, 'so': 2, 'somebody': 2, 'something': 6, 'sour': 1, 'start': 2, 'stop': 1, 'story': 1, 'sweet': 1, 'table': 1, 'take': 1, 'talk': 4, 'taxi': 1, 'tell': 1, 'that': 2, 'the': 18, 'then': 3, 'thrifty': 1, 'to': 2, 'too': 5, 'trust': 1, 'up': 3, 'van': 1, 'waist': 2, 'want': 2, 'was': 2, 'we': 7, \"we're\": 1, 'week': 1, 'were': 3, 'where': 1, 'with': 22, 'you': 16, 'your': 21}\n",
    "```"
   ]
  },
  {
   "cell_type": "code",
   "execution_count": 239,
   "metadata": {},
   "outputs": [
    {
     "name": "stdout",
     "output_type": "stream",
     "text": [
      "['love', 'conversation', 'every', \"we're\", 'plate', 'sour', 'jukebox', 'now', 'taxi', 'fast', 'bag', 'man', 'push', 'baby', 'going', 'you', \"don't\", 'one', 'mind', 'backseat', 'friends', 'then', 'know', 'take', 'play', 'okay', 'so', 'begin', 'start', 'over', 'body', 'boy', 'just', 'we', 'are', 'girl', 'tell', 'singing', 'drinking', 'put', 'our', 'where', \"i'll\", 'all', \"isn't\", 'make', 'lover', 'get', 'radio', 'give', \"i'm\", 'like', 'can', 'doing', 'with', 'club', 'come', 'it', 'somebody', 'handmade', 'out', 'new', 'room', 'chance', 'follow', 'in', 'may', 'brand', 'that', 'magnet', 'up', 'first', 'and', 'pull', 'of', 'table', 'much', 'last', 'i', 'thrifty', 'grab', 'was', 'driver', 'slow', 'dance', 'the', 'say', 'trust', 'family', 'week', 'date', 'me', 'do', 'waist', 'smell', 'day', 'although', 'your', 'leave', 'want', \"let's\", 'lead', 'at', 'hand', 'how', 'talk', 'not', 'eat', 'falling', 'about', 'story', 'sweet', 'best', 'crazy', 'let', 'too', 'van', 'shots', 'go', 'to', 'a', 'my', 'is', 'place', 'find', 'shape', 'on', 'kiss', 'were', 'night', 'heart', 'for', 'discovering', 'something', 'be', 'bedsheets', 'fill', 'hours', 'stop', 'bar']\n"
     ]
    }
   ],
   "source": [
    "# Your code here\n",
    "\n",
    "word_freq = {'love': 25, 'conversation': 1, 'every': 6, \"we're\": 1, 'plate': 1, 'sour': 1, 'jukebox': 1, 'now': 11, 'taxi': 1, 'fast': 1, 'bag': 1, 'man': 1, 'push': 3, 'baby': 14, 'going': 1, 'you': 16, \"don't\": 2, 'one': 1, 'mind': 2, 'backseat': 1, 'friends': 1, 'then': 3, 'know': 2, 'take': 1, 'play': 1, 'okay': 1, 'so': 2, 'begin': 1, 'start': 2, 'over': 1, 'body': 17, 'boy': 2, 'just': 1, 'we': 7, 'are': 1, 'girl': 2, 'tell': 1, 'singing': 2, 'drinking': 1, 'put': 3, 'our': 1, 'where': 1, \"i'll\": 1, 'all': 1, \"isn't\": 1, 'make': 1, 'lover': 1, 'get': 1, 'radio': 1, 'give': 1, \"i'm\": 23, 'like': 10, 'can': 1, 'doing': 2, 'with': 22, 'club': 1, 'come': 37, 'it': 1, 'somebody': 2, 'handmade': 2, 'out': 1, 'new': 6, 'room': 3, 'chance': 1, 'follow': 6, 'in': 27, 'may': 2, 'brand': 6, 'that': 2, 'magnet': 3, 'up': 3, 'first': 1, 'and': 23, 'pull': 3, 'of': 6, 'table': 1, 'much': 2, 'last': 3, 'i': 6, 'thrifty': 1, 'grab': 2, 'was': 2, 'driver': 1, 'slow': 1, 'dance': 1, 'the': 18, 'say': 2, 'trust': 1, 'family': 1, 'week': 1, 'date': 1, 'me': 10, 'do': 3, 'waist': 2, 'smell': 3, 'day': 6, 'although': 3, 'your': 21, 'leave': 1, 'want': 2, \"let's\": 2, 'lead': 6, 'at': 1, 'hand': 1, 'how': 1, 'talk': 4, 'not': 2, 'eat': 1, 'falling': 3, 'about': 1, 'story': 1, 'sweet': 1, 'best': 1, 'crazy': 2, 'let': 1, 'too': 5, 'van': 1, 'shots': 1, 'go': 2, 'to': 2, 'a': 8, 'my': 33, 'is': 5, 'place': 1, 'find': 1, 'shape': 6, 'on': 40, 'kiss': 1, 'were': 3, 'night': 3, 'heart': 3, 'for': 3, 'discovering': 6, 'something': 6, 'be': 16, 'bedsheets': 3, 'fill': 2, 'hours': 2, 'stop': 1, 'bar': 1}\n",
    "\n",
    "\n",
    "keys1 = [k for k in word_freq.keys()]\n",
    "val = [v for v in word_freq.values()]\n",
    "print(keys1)\n",
    "\n",
    "word_freq2 = {0}\n",
    "\n",
    "\n",
    "dict(list(zip(keys1, val)))\n",
    "\n"
   ]
  },
  {
   "cell_type": "code",
   "execution_count": 238,
   "metadata": {},
   "outputs": [
    {
     "data": {
      "text/plain": [
       "['a',\n",
       " 'about',\n",
       " 'all',\n",
       " 'although',\n",
       " 'and',\n",
       " 'are',\n",
       " 'at',\n",
       " 'baby',\n",
       " 'backseat',\n",
       " 'bag',\n",
       " 'bar',\n",
       " 'be',\n",
       " 'bedsheets',\n",
       " 'begin',\n",
       " 'best',\n",
       " 'body',\n",
       " 'boy',\n",
       " 'brand',\n",
       " 'can',\n",
       " 'chance',\n",
       " 'club',\n",
       " 'come',\n",
       " 'conversation',\n",
       " 'crazy',\n",
       " 'dance',\n",
       " 'date',\n",
       " 'day',\n",
       " 'discovering',\n",
       " 'do',\n",
       " 'doing',\n",
       " \"don't\",\n",
       " 'drinking',\n",
       " 'driver',\n",
       " 'eat',\n",
       " 'every',\n",
       " 'falling',\n",
       " 'family',\n",
       " 'fast',\n",
       " 'fill',\n",
       " 'find',\n",
       " 'first',\n",
       " 'follow',\n",
       " 'for',\n",
       " 'friends',\n",
       " 'get',\n",
       " 'girl',\n",
       " 'give',\n",
       " 'go',\n",
       " 'going',\n",
       " 'grab',\n",
       " 'hand',\n",
       " 'handmade',\n",
       " 'heart',\n",
       " 'hours',\n",
       " 'how',\n",
       " 'i',\n",
       " \"i'll\",\n",
       " \"i'm\",\n",
       " 'in',\n",
       " 'is',\n",
       " \"isn't\",\n",
       " 'it',\n",
       " 'jukebox',\n",
       " 'just',\n",
       " 'kiss',\n",
       " 'know',\n",
       " 'last',\n",
       " 'lead',\n",
       " 'leave',\n",
       " 'let',\n",
       " \"let's\",\n",
       " 'like',\n",
       " 'love',\n",
       " 'lover',\n",
       " 'magnet',\n",
       " 'make',\n",
       " 'man',\n",
       " 'may',\n",
       " 'me',\n",
       " 'mind',\n",
       " 'much',\n",
       " 'my',\n",
       " 'new',\n",
       " 'night',\n",
       " 'not',\n",
       " 'now',\n",
       " 'of',\n",
       " 'okay',\n",
       " 'on',\n",
       " 'one',\n",
       " 'our',\n",
       " 'out',\n",
       " 'over',\n",
       " 'place',\n",
       " 'plate',\n",
       " 'play',\n",
       " 'pull',\n",
       " 'push',\n",
       " 'put',\n",
       " 'radio',\n",
       " 'room',\n",
       " 'say',\n",
       " 'shape',\n",
       " 'shots',\n",
       " 'singing',\n",
       " 'slow',\n",
       " 'smell',\n",
       " 'so',\n",
       " 'somebody',\n",
       " 'something',\n",
       " 'sour',\n",
       " 'start',\n",
       " 'stop',\n",
       " 'story',\n",
       " 'sweet',\n",
       " 'table',\n",
       " 'take',\n",
       " 'talk',\n",
       " 'taxi',\n",
       " 'tell',\n",
       " 'that',\n",
       " 'the',\n",
       " 'then',\n",
       " 'thrifty',\n",
       " 'to',\n",
       " 'too',\n",
       " 'trust',\n",
       " 'up',\n",
       " 'van',\n",
       " 'waist',\n",
       " 'want',\n",
       " 'was',\n",
       " 'we',\n",
       " \"we're\",\n",
       " 'week',\n",
       " 'were',\n",
       " 'where',\n",
       " 'with',\n",
       " 'you',\n",
       " 'your']"
      ]
     },
     "execution_count": 238,
     "metadata": {},
     "output_type": "execute_result"
    }
   ],
   "source": [
    "keys1"
   ]
  },
  {
   "cell_type": "code",
   "execution_count": 246,
   "metadata": {},
   "outputs": [
    {
     "name": "stdout",
     "output_type": "stream",
     "text": [
      "{'love': 25, 'conversation': 1, 'every': 6, \"we're\": 1, 'plate': 1, 'sour': 1, 'jukebox': 1, 'now': 11, 'taxi': 1, 'fast': 1, 'bag': 1, 'man': 1, 'push': 3, 'baby': 14, 'going': 1, 'you': 16, \"don't\": 2, 'one': 1, 'mind': 2, 'backseat': 1, 'friends': 1, 'then': 3, 'know': 2, 'take': 1, 'play': 1, 'okay': 1, 'so': 2, 'begin': 1, 'start': 2, 'over': 1, 'body': 17, 'boy': 2, 'just': 1, 'we': 7, 'are': 1, 'girl': 2, 'tell': 1, 'singing': 2, 'drinking': 1, 'put': 3, 'our': 1, 'where': 1, \"i'll\": 1, 'all': 1, \"isn't\": 1, 'make': 1, 'lover': 1, 'get': 1, 'radio': 1, 'give': 1, \"i'm\": 23, 'like': 10, 'can': 1, 'doing': 2, 'with': 22, 'club': 1, 'come': 37, 'it': 1, 'somebody': 2, 'handmade': 2, 'out': 1, 'new': 6, 'room': 3, 'chance': 1, 'follow': 6, 'in': 27, 'may': 2, 'brand': 6, 'that': 2, 'magnet': 3, 'up': 3, 'first': 1, 'and': 23, 'pull': 3, 'of': 6, 'table': 1, 'much': 2, 'last': 3, 'i': 6, 'thrifty': 1, 'grab': 2, 'was': 2, 'driver': 1, 'slow': 1, 'dance': 1, 'the': 18, 'say': 2, 'trust': 1, 'family': 1, 'week': 1, 'date': 1, 'me': 10, 'do': 3, 'waist': 2, 'smell': 3, 'day': 6, 'although': 3, 'your': 21, 'leave': 1, 'want': 2, \"let's\": 2, 'lead': 6, 'at': 1, 'hand': 1, 'how': 1, 'talk': 4, 'not': 2, 'eat': 1, 'falling': 3, 'about': 1, 'story': 1, 'sweet': 1, 'best': 1, 'crazy': 2, 'let': 1, 'too': 5, 'van': 1, 'shots': 1, 'go': 2, 'to': 2, 'a': 8, 'my': 33, 'is': 5, 'place': 1, 'find': 1, 'shape': 6, 'on': 40, 'kiss': 1, 'were': 3, 'night': 3, 'heart': 3, 'for': 3, 'discovering': 6, 'something': 6, 'be': 16, 'bedsheets': 3, 'fill': 2, 'hours': 2, 'stop': 1, 'bar': 1}\n"
     ]
    }
   ],
   "source": [
    "word_freq2= (dict(zip(keys1, val)))\n",
    "print (word_freq2)"
   ]
  },
  {
   "cell_type": "markdown",
   "metadata": {},
   "source": [
    "#### Sort the values of `word_freq` ascendingly.\n",
    "\n",
    "Sorting the values of a dictionary is more tricky than sorting the keys because a dictionary's values are not unique. Therefore you cannot use the same way you sorted dict keys to sort dict values.\n",
    "\n",
    "The way to sort a dict by value is to utilize the `sorted` and `operator.itemgetter` functions. The following code snippet is provided to you to try. It will give you a list of tuples in which each tuple contains the key and value of a dict item. And the list is sorted based on the dict value ( [reference](http://thomas-cokelaer.info/blog/2017/12/how-to-sort-a-dictionary-by-values-in-python/)\n",
    ").\n",
    "\n",
    "```python\n",
    "import operator\n",
    "sorted_tups = sorted(word_freq.items(), key=operator.itemgetter(1))\n",
    "print(sorted_tups)\n",
    "```\n",
    "\n",
    "Therefore, the steps to sort `word_freq` by value are:\n",
    "\n",
    "* Using `sorted` and `operator.itemgetter`, obtain a list of tuples of the dict key-value pairs which is sorted on the value.\n",
    "\n",
    "* Create an empty dictionary named `word_freq2`.\n",
    "\n",
    "* Iterate the list of tuples. Insert each key-value pair into `word_freq2` as an object.\n",
    "\n",
    "Print `word_freq2` to confirm your dictionary has its values sorted. Your output should be:\n",
    "\n",
    "```python\n",
    "{'conversation': 1, \"we're\": 1, 'plate': 1, 'sour': 1, 'jukebox': 1, 'taxi': 1, 'fast': 1, 'bag': 1, 'man': 1, 'going': 1, 'one': 1, 'backseat': 1, 'friends': 1, 'take': 1, 'play': 1, 'okay': 1, 'begin': 1, 'over': 1, 'just': 1, 'are': 1, 'tell': 1, 'drinking': 1, 'our': 1, 'where': 1, \"i'll\": 1, 'all': 1, \"isn't\": 1, 'make': 1, 'lover': 1, 'get': 1, 'radio': 1, 'give': 1, 'can': 1, 'club': 1, 'it': 1, 'out': 1, 'chance': 1, 'first': 1, 'table': 1, 'thrifty': 1, 'driver': 1, 'slow': 1, 'dance': 1, 'trust': 1, 'family': 1, 'week': 1, 'date': 1, 'leave': 1, 'at': 1, 'hand': 1, 'how': 1, 'eat': 1, 'about': 1, 'story': 1, 'sweet': 1, 'best': 1, 'let': 1, 'van': 1, 'shots': 1, 'place': 1, 'find': 1, 'kiss': 1, 'stop': 1, 'bar': 1, \"don't\": 2, 'mind': 2, 'know': 2, 'so': 2, 'start': 2, 'boy': 2, 'girl': 2, 'singing': 2, 'doing': 2, 'somebody': 2, 'handmade': 2, 'may': 2, 'that': 2, 'much': 2, 'grab': 2, 'was': 2, 'say': 2, 'waist': 2, 'want': 2, \"let's\": 2, 'not': 2, 'crazy': 2, 'go': 2, 'to': 2, 'fill': 2, 'hours': 2, 'push': 3, 'then': 3, 'put': 3, 'room': 3, 'magnet': 3, 'up': 3, 'pull': 3, 'last': 3, 'do': 3, 'smell': 3, 'although': 3, 'falling': 3, 'were': 3, 'night': 3, 'heart': 3, 'for': 3, 'bedsheets': 3, 'talk': 4, 'too': 5, 'is': 5, 'every': 6, 'new': 6, 'follow': 6, 'brand': 6, 'of': 6, 'i': 6, 'day': 6, 'lead': 6, 'shape': 6, 'discovering': 6, 'something': 6, 'we': 7, 'a': 8, 'like': 10, 'me': 10, 'now': 11, 'baby': 14, 'you': 16, 'be': 16, 'body': 17, 'the': 18, 'your': 21, 'with': 22, \"i'm\": 23, 'and': 23, 'love': 25, 'in': 27, 'my': 33, 'come': 37, 'on': 40}\n",
    "```"
   ]
  },
  {
   "cell_type": "code",
   "execution_count": 250,
   "metadata": {},
   "outputs": [
    {
     "ename": "TypeError",
     "evalue": "'list' object is not callable",
     "output_type": "error",
     "traceback": [
      "\u001b[0;31m---------------------------------------------------------------------------\u001b[0m",
      "\u001b[0;31mTypeError\u001b[0m                                 Traceback (most recent call last)",
      "\u001b[1;32m/Users/jaimemac/Documents/Github Access/Ejercicios-Clase-Semana1/1.2-lab-tuple-set-dict/your-code/Solutions.ipynb Celda 63\u001b[0m in \u001b[0;36m<cell line: 6>\u001b[0;34m()\u001b[0m\n\u001b[1;32m      <a href='vscode-notebook-cell:/Users/jaimemac/Documents/Github%20Access/Ejercicios-Clase-Semana1/1.2-lab-tuple-set-dict/your-code/Solutions.ipynb#ch0000060?line=1'>2</a>\u001b[0m \u001b[39mimport\u001b[39;00m \u001b[39moperator\u001b[39;00m\n\u001b[1;32m      <a href='vscode-notebook-cell:/Users/jaimemac/Documents/Github%20Access/Ejercicios-Clase-Semana1/1.2-lab-tuple-set-dict/your-code/Solutions.ipynb#ch0000060?line=3'>4</a>\u001b[0m word_freq \u001b[39m=\u001b[39m {\u001b[39m'\u001b[39m\u001b[39mlove\u001b[39m\u001b[39m'\u001b[39m: \u001b[39m25\u001b[39m, \u001b[39m'\u001b[39m\u001b[39mconversation\u001b[39m\u001b[39m'\u001b[39m: \u001b[39m1\u001b[39m, \u001b[39m'\u001b[39m\u001b[39mevery\u001b[39m\u001b[39m'\u001b[39m: \u001b[39m6\u001b[39m, \u001b[39m\"\u001b[39m\u001b[39mwe\u001b[39m\u001b[39m'\u001b[39m\u001b[39mre\u001b[39m\u001b[39m\"\u001b[39m: \u001b[39m1\u001b[39m, \u001b[39m'\u001b[39m\u001b[39mplate\u001b[39m\u001b[39m'\u001b[39m: \u001b[39m1\u001b[39m, \u001b[39m'\u001b[39m\u001b[39msour\u001b[39m\u001b[39m'\u001b[39m: \u001b[39m1\u001b[39m, \u001b[39m'\u001b[39m\u001b[39mjukebox\u001b[39m\u001b[39m'\u001b[39m: \u001b[39m1\u001b[39m, \u001b[39m'\u001b[39m\u001b[39mnow\u001b[39m\u001b[39m'\u001b[39m: \u001b[39m11\u001b[39m, \u001b[39m'\u001b[39m\u001b[39mtaxi\u001b[39m\u001b[39m'\u001b[39m: \u001b[39m1\u001b[39m, \u001b[39m'\u001b[39m\u001b[39mfast\u001b[39m\u001b[39m'\u001b[39m: \u001b[39m1\u001b[39m, \u001b[39m'\u001b[39m\u001b[39mbag\u001b[39m\u001b[39m'\u001b[39m: \u001b[39m1\u001b[39m, \u001b[39m'\u001b[39m\u001b[39mman\u001b[39m\u001b[39m'\u001b[39m: \u001b[39m1\u001b[39m, \u001b[39m'\u001b[39m\u001b[39mpush\u001b[39m\u001b[39m'\u001b[39m: \u001b[39m3\u001b[39m, \u001b[39m'\u001b[39m\u001b[39mbaby\u001b[39m\u001b[39m'\u001b[39m: \u001b[39m14\u001b[39m, \u001b[39m'\u001b[39m\u001b[39mgoing\u001b[39m\u001b[39m'\u001b[39m: \u001b[39m1\u001b[39m, \u001b[39m'\u001b[39m\u001b[39myou\u001b[39m\u001b[39m'\u001b[39m: \u001b[39m16\u001b[39m, \u001b[39m\"\u001b[39m\u001b[39mdon\u001b[39m\u001b[39m'\u001b[39m\u001b[39mt\u001b[39m\u001b[39m\"\u001b[39m: \u001b[39m2\u001b[39m, \u001b[39m'\u001b[39m\u001b[39mone\u001b[39m\u001b[39m'\u001b[39m: \u001b[39m1\u001b[39m, \u001b[39m'\u001b[39m\u001b[39mmind\u001b[39m\u001b[39m'\u001b[39m: \u001b[39m2\u001b[39m, \u001b[39m'\u001b[39m\u001b[39mbackseat\u001b[39m\u001b[39m'\u001b[39m: \u001b[39m1\u001b[39m, \u001b[39m'\u001b[39m\u001b[39mfriends\u001b[39m\u001b[39m'\u001b[39m: \u001b[39m1\u001b[39m, \u001b[39m'\u001b[39m\u001b[39mthen\u001b[39m\u001b[39m'\u001b[39m: \u001b[39m3\u001b[39m, \u001b[39m'\u001b[39m\u001b[39mknow\u001b[39m\u001b[39m'\u001b[39m: \u001b[39m2\u001b[39m, \u001b[39m'\u001b[39m\u001b[39mtake\u001b[39m\u001b[39m'\u001b[39m: \u001b[39m1\u001b[39m, \u001b[39m'\u001b[39m\u001b[39mplay\u001b[39m\u001b[39m'\u001b[39m: \u001b[39m1\u001b[39m, \u001b[39m'\u001b[39m\u001b[39mokay\u001b[39m\u001b[39m'\u001b[39m: \u001b[39m1\u001b[39m, \u001b[39m'\u001b[39m\u001b[39mso\u001b[39m\u001b[39m'\u001b[39m: \u001b[39m2\u001b[39m, \u001b[39m'\u001b[39m\u001b[39mbegin\u001b[39m\u001b[39m'\u001b[39m: \u001b[39m1\u001b[39m, \u001b[39m'\u001b[39m\u001b[39mstart\u001b[39m\u001b[39m'\u001b[39m: \u001b[39m2\u001b[39m, \u001b[39m'\u001b[39m\u001b[39mover\u001b[39m\u001b[39m'\u001b[39m: \u001b[39m1\u001b[39m, \u001b[39m'\u001b[39m\u001b[39mbody\u001b[39m\u001b[39m'\u001b[39m: \u001b[39m17\u001b[39m, \u001b[39m'\u001b[39m\u001b[39mboy\u001b[39m\u001b[39m'\u001b[39m: \u001b[39m2\u001b[39m, \u001b[39m'\u001b[39m\u001b[39mjust\u001b[39m\u001b[39m'\u001b[39m: \u001b[39m1\u001b[39m, \u001b[39m'\u001b[39m\u001b[39mwe\u001b[39m\u001b[39m'\u001b[39m: \u001b[39m7\u001b[39m, \u001b[39m'\u001b[39m\u001b[39mare\u001b[39m\u001b[39m'\u001b[39m: \u001b[39m1\u001b[39m, \u001b[39m'\u001b[39m\u001b[39mgirl\u001b[39m\u001b[39m'\u001b[39m: \u001b[39m2\u001b[39m, \u001b[39m'\u001b[39m\u001b[39mtell\u001b[39m\u001b[39m'\u001b[39m: \u001b[39m1\u001b[39m, \u001b[39m'\u001b[39m\u001b[39msinging\u001b[39m\u001b[39m'\u001b[39m: \u001b[39m2\u001b[39m, \u001b[39m'\u001b[39m\u001b[39mdrinking\u001b[39m\u001b[39m'\u001b[39m: \u001b[39m1\u001b[39m, \u001b[39m'\u001b[39m\u001b[39mput\u001b[39m\u001b[39m'\u001b[39m: \u001b[39m3\u001b[39m, \u001b[39m'\u001b[39m\u001b[39mour\u001b[39m\u001b[39m'\u001b[39m: \u001b[39m1\u001b[39m, \u001b[39m'\u001b[39m\u001b[39mwhere\u001b[39m\u001b[39m'\u001b[39m: \u001b[39m1\u001b[39m, \u001b[39m\"\u001b[39m\u001b[39mi\u001b[39m\u001b[39m'\u001b[39m\u001b[39mll\u001b[39m\u001b[39m\"\u001b[39m: \u001b[39m1\u001b[39m, \u001b[39m'\u001b[39m\u001b[39mall\u001b[39m\u001b[39m'\u001b[39m: \u001b[39m1\u001b[39m, \u001b[39m\"\u001b[39m\u001b[39misn\u001b[39m\u001b[39m'\u001b[39m\u001b[39mt\u001b[39m\u001b[39m\"\u001b[39m: \u001b[39m1\u001b[39m, \u001b[39m'\u001b[39m\u001b[39mmake\u001b[39m\u001b[39m'\u001b[39m: \u001b[39m1\u001b[39m, \u001b[39m'\u001b[39m\u001b[39mlover\u001b[39m\u001b[39m'\u001b[39m: \u001b[39m1\u001b[39m, \u001b[39m'\u001b[39m\u001b[39mget\u001b[39m\u001b[39m'\u001b[39m: \u001b[39m1\u001b[39m, \u001b[39m'\u001b[39m\u001b[39mradio\u001b[39m\u001b[39m'\u001b[39m: \u001b[39m1\u001b[39m, \u001b[39m'\u001b[39m\u001b[39mgive\u001b[39m\u001b[39m'\u001b[39m: \u001b[39m1\u001b[39m, \u001b[39m\"\u001b[39m\u001b[39mi\u001b[39m\u001b[39m'\u001b[39m\u001b[39mm\u001b[39m\u001b[39m\"\u001b[39m: \u001b[39m23\u001b[39m, \u001b[39m'\u001b[39m\u001b[39mlike\u001b[39m\u001b[39m'\u001b[39m: \u001b[39m10\u001b[39m, \u001b[39m'\u001b[39m\u001b[39mcan\u001b[39m\u001b[39m'\u001b[39m: \u001b[39m1\u001b[39m, \u001b[39m'\u001b[39m\u001b[39mdoing\u001b[39m\u001b[39m'\u001b[39m: \u001b[39m2\u001b[39m, \u001b[39m'\u001b[39m\u001b[39mwith\u001b[39m\u001b[39m'\u001b[39m: \u001b[39m22\u001b[39m, \u001b[39m'\u001b[39m\u001b[39mclub\u001b[39m\u001b[39m'\u001b[39m: \u001b[39m1\u001b[39m, \u001b[39m'\u001b[39m\u001b[39mcome\u001b[39m\u001b[39m'\u001b[39m: \u001b[39m37\u001b[39m, \u001b[39m'\u001b[39m\u001b[39mit\u001b[39m\u001b[39m'\u001b[39m: \u001b[39m1\u001b[39m, \u001b[39m'\u001b[39m\u001b[39msomebody\u001b[39m\u001b[39m'\u001b[39m: \u001b[39m2\u001b[39m, \u001b[39m'\u001b[39m\u001b[39mhandmade\u001b[39m\u001b[39m'\u001b[39m: \u001b[39m2\u001b[39m, \u001b[39m'\u001b[39m\u001b[39mout\u001b[39m\u001b[39m'\u001b[39m: \u001b[39m1\u001b[39m, \u001b[39m'\u001b[39m\u001b[39mnew\u001b[39m\u001b[39m'\u001b[39m: \u001b[39m6\u001b[39m, \u001b[39m'\u001b[39m\u001b[39mroom\u001b[39m\u001b[39m'\u001b[39m: \u001b[39m3\u001b[39m, \u001b[39m'\u001b[39m\u001b[39mchance\u001b[39m\u001b[39m'\u001b[39m: \u001b[39m1\u001b[39m, \u001b[39m'\u001b[39m\u001b[39mfollow\u001b[39m\u001b[39m'\u001b[39m: \u001b[39m6\u001b[39m, \u001b[39m'\u001b[39m\u001b[39min\u001b[39m\u001b[39m'\u001b[39m: \u001b[39m27\u001b[39m, \u001b[39m'\u001b[39m\u001b[39mmay\u001b[39m\u001b[39m'\u001b[39m: \u001b[39m2\u001b[39m, \u001b[39m'\u001b[39m\u001b[39mbrand\u001b[39m\u001b[39m'\u001b[39m: \u001b[39m6\u001b[39m, \u001b[39m'\u001b[39m\u001b[39mthat\u001b[39m\u001b[39m'\u001b[39m: \u001b[39m2\u001b[39m, \u001b[39m'\u001b[39m\u001b[39mmagnet\u001b[39m\u001b[39m'\u001b[39m: \u001b[39m3\u001b[39m, \u001b[39m'\u001b[39m\u001b[39mup\u001b[39m\u001b[39m'\u001b[39m: \u001b[39m3\u001b[39m, \u001b[39m'\u001b[39m\u001b[39mfirst\u001b[39m\u001b[39m'\u001b[39m: \u001b[39m1\u001b[39m, \u001b[39m'\u001b[39m\u001b[39mand\u001b[39m\u001b[39m'\u001b[39m: \u001b[39m23\u001b[39m, \u001b[39m'\u001b[39m\u001b[39mpull\u001b[39m\u001b[39m'\u001b[39m: \u001b[39m3\u001b[39m, \u001b[39m'\u001b[39m\u001b[39mof\u001b[39m\u001b[39m'\u001b[39m: \u001b[39m6\u001b[39m, \u001b[39m'\u001b[39m\u001b[39mtable\u001b[39m\u001b[39m'\u001b[39m: \u001b[39m1\u001b[39m, \u001b[39m'\u001b[39m\u001b[39mmuch\u001b[39m\u001b[39m'\u001b[39m: \u001b[39m2\u001b[39m, \u001b[39m'\u001b[39m\u001b[39mlast\u001b[39m\u001b[39m'\u001b[39m: \u001b[39m3\u001b[39m, \u001b[39m'\u001b[39m\u001b[39mi\u001b[39m\u001b[39m'\u001b[39m: \u001b[39m6\u001b[39m, \u001b[39m'\u001b[39m\u001b[39mthrifty\u001b[39m\u001b[39m'\u001b[39m: \u001b[39m1\u001b[39m, \u001b[39m'\u001b[39m\u001b[39mgrab\u001b[39m\u001b[39m'\u001b[39m: \u001b[39m2\u001b[39m, \u001b[39m'\u001b[39m\u001b[39mwas\u001b[39m\u001b[39m'\u001b[39m: \u001b[39m2\u001b[39m, \u001b[39m'\u001b[39m\u001b[39mdriver\u001b[39m\u001b[39m'\u001b[39m: \u001b[39m1\u001b[39m, \u001b[39m'\u001b[39m\u001b[39mslow\u001b[39m\u001b[39m'\u001b[39m: \u001b[39m1\u001b[39m, \u001b[39m'\u001b[39m\u001b[39mdance\u001b[39m\u001b[39m'\u001b[39m: \u001b[39m1\u001b[39m, \u001b[39m'\u001b[39m\u001b[39mthe\u001b[39m\u001b[39m'\u001b[39m: \u001b[39m18\u001b[39m, \u001b[39m'\u001b[39m\u001b[39msay\u001b[39m\u001b[39m'\u001b[39m: \u001b[39m2\u001b[39m, \u001b[39m'\u001b[39m\u001b[39mtrust\u001b[39m\u001b[39m'\u001b[39m: \u001b[39m1\u001b[39m, \u001b[39m'\u001b[39m\u001b[39mfamily\u001b[39m\u001b[39m'\u001b[39m: \u001b[39m1\u001b[39m, \u001b[39m'\u001b[39m\u001b[39mweek\u001b[39m\u001b[39m'\u001b[39m: \u001b[39m1\u001b[39m, \u001b[39m'\u001b[39m\u001b[39mdate\u001b[39m\u001b[39m'\u001b[39m: \u001b[39m1\u001b[39m, \u001b[39m'\u001b[39m\u001b[39mme\u001b[39m\u001b[39m'\u001b[39m: \u001b[39m10\u001b[39m, \u001b[39m'\u001b[39m\u001b[39mdo\u001b[39m\u001b[39m'\u001b[39m: \u001b[39m3\u001b[39m, \u001b[39m'\u001b[39m\u001b[39mwaist\u001b[39m\u001b[39m'\u001b[39m: \u001b[39m2\u001b[39m, \u001b[39m'\u001b[39m\u001b[39msmell\u001b[39m\u001b[39m'\u001b[39m: \u001b[39m3\u001b[39m, \u001b[39m'\u001b[39m\u001b[39mday\u001b[39m\u001b[39m'\u001b[39m: \u001b[39m6\u001b[39m, \u001b[39m'\u001b[39m\u001b[39malthough\u001b[39m\u001b[39m'\u001b[39m: \u001b[39m3\u001b[39m, \u001b[39m'\u001b[39m\u001b[39myour\u001b[39m\u001b[39m'\u001b[39m: \u001b[39m21\u001b[39m, \u001b[39m'\u001b[39m\u001b[39mleave\u001b[39m\u001b[39m'\u001b[39m: \u001b[39m1\u001b[39m, \u001b[39m'\u001b[39m\u001b[39mwant\u001b[39m\u001b[39m'\u001b[39m: \u001b[39m2\u001b[39m, \u001b[39m\"\u001b[39m\u001b[39mlet\u001b[39m\u001b[39m'\u001b[39m\u001b[39ms\u001b[39m\u001b[39m\"\u001b[39m: \u001b[39m2\u001b[39m, \u001b[39m'\u001b[39m\u001b[39mlead\u001b[39m\u001b[39m'\u001b[39m: \u001b[39m6\u001b[39m, \u001b[39m'\u001b[39m\u001b[39mat\u001b[39m\u001b[39m'\u001b[39m: \u001b[39m1\u001b[39m, \u001b[39m'\u001b[39m\u001b[39mhand\u001b[39m\u001b[39m'\u001b[39m: \u001b[39m1\u001b[39m, \u001b[39m'\u001b[39m\u001b[39mhow\u001b[39m\u001b[39m'\u001b[39m: \u001b[39m1\u001b[39m, \u001b[39m'\u001b[39m\u001b[39mtalk\u001b[39m\u001b[39m'\u001b[39m: \u001b[39m4\u001b[39m, \u001b[39m'\u001b[39m\u001b[39mnot\u001b[39m\u001b[39m'\u001b[39m: \u001b[39m2\u001b[39m, \u001b[39m'\u001b[39m\u001b[39meat\u001b[39m\u001b[39m'\u001b[39m: \u001b[39m1\u001b[39m, \u001b[39m'\u001b[39m\u001b[39mfalling\u001b[39m\u001b[39m'\u001b[39m: \u001b[39m3\u001b[39m, \u001b[39m'\u001b[39m\u001b[39mabout\u001b[39m\u001b[39m'\u001b[39m: \u001b[39m1\u001b[39m, \u001b[39m'\u001b[39m\u001b[39mstory\u001b[39m\u001b[39m'\u001b[39m: \u001b[39m1\u001b[39m, \u001b[39m'\u001b[39m\u001b[39msweet\u001b[39m\u001b[39m'\u001b[39m: \u001b[39m1\u001b[39m, \u001b[39m'\u001b[39m\u001b[39mbest\u001b[39m\u001b[39m'\u001b[39m: \u001b[39m1\u001b[39m, \u001b[39m'\u001b[39m\u001b[39mcrazy\u001b[39m\u001b[39m'\u001b[39m: \u001b[39m2\u001b[39m, \u001b[39m'\u001b[39m\u001b[39mlet\u001b[39m\u001b[39m'\u001b[39m: \u001b[39m1\u001b[39m, \u001b[39m'\u001b[39m\u001b[39mtoo\u001b[39m\u001b[39m'\u001b[39m: \u001b[39m5\u001b[39m, \u001b[39m'\u001b[39m\u001b[39mvan\u001b[39m\u001b[39m'\u001b[39m: \u001b[39m1\u001b[39m, \u001b[39m'\u001b[39m\u001b[39mshots\u001b[39m\u001b[39m'\u001b[39m: \u001b[39m1\u001b[39m, \u001b[39m'\u001b[39m\u001b[39mgo\u001b[39m\u001b[39m'\u001b[39m: \u001b[39m2\u001b[39m, \u001b[39m'\u001b[39m\u001b[39mto\u001b[39m\u001b[39m'\u001b[39m: \u001b[39m2\u001b[39m, \u001b[39m'\u001b[39m\u001b[39ma\u001b[39m\u001b[39m'\u001b[39m: \u001b[39m8\u001b[39m, \u001b[39m'\u001b[39m\u001b[39mmy\u001b[39m\u001b[39m'\u001b[39m: \u001b[39m33\u001b[39m, \u001b[39m'\u001b[39m\u001b[39mis\u001b[39m\u001b[39m'\u001b[39m: \u001b[39m5\u001b[39m, \u001b[39m'\u001b[39m\u001b[39mplace\u001b[39m\u001b[39m'\u001b[39m: \u001b[39m1\u001b[39m, \u001b[39m'\u001b[39m\u001b[39mfind\u001b[39m\u001b[39m'\u001b[39m: \u001b[39m1\u001b[39m, \u001b[39m'\u001b[39m\u001b[39mshape\u001b[39m\u001b[39m'\u001b[39m: \u001b[39m6\u001b[39m, \u001b[39m'\u001b[39m\u001b[39mon\u001b[39m\u001b[39m'\u001b[39m: \u001b[39m40\u001b[39m, \u001b[39m'\u001b[39m\u001b[39mkiss\u001b[39m\u001b[39m'\u001b[39m: \u001b[39m1\u001b[39m, \u001b[39m'\u001b[39m\u001b[39mwere\u001b[39m\u001b[39m'\u001b[39m: \u001b[39m3\u001b[39m, \u001b[39m'\u001b[39m\u001b[39mnight\u001b[39m\u001b[39m'\u001b[39m: \u001b[39m3\u001b[39m, \u001b[39m'\u001b[39m\u001b[39mheart\u001b[39m\u001b[39m'\u001b[39m: \u001b[39m3\u001b[39m, \u001b[39m'\u001b[39m\u001b[39mfor\u001b[39m\u001b[39m'\u001b[39m: \u001b[39m3\u001b[39m, \u001b[39m'\u001b[39m\u001b[39mdiscovering\u001b[39m\u001b[39m'\u001b[39m: \u001b[39m6\u001b[39m, \u001b[39m'\u001b[39m\u001b[39msomething\u001b[39m\u001b[39m'\u001b[39m: \u001b[39m6\u001b[39m, \u001b[39m'\u001b[39m\u001b[39mbe\u001b[39m\u001b[39m'\u001b[39m: \u001b[39m16\u001b[39m, \u001b[39m'\u001b[39m\u001b[39mbedsheets\u001b[39m\u001b[39m'\u001b[39m: \u001b[39m3\u001b[39m, \u001b[39m'\u001b[39m\u001b[39mfill\u001b[39m\u001b[39m'\u001b[39m: \u001b[39m2\u001b[39m, \u001b[39m'\u001b[39m\u001b[39mhours\u001b[39m\u001b[39m'\u001b[39m: \u001b[39m2\u001b[39m, \u001b[39m'\u001b[39m\u001b[39mstop\u001b[39m\u001b[39m'\u001b[39m: \u001b[39m1\u001b[39m, \u001b[39m'\u001b[39m\u001b[39mbar\u001b[39m\u001b[39m'\u001b[39m: \u001b[39m1\u001b[39m}\n\u001b[0;32m----> <a href='vscode-notebook-cell:/Users/jaimemac/Documents/Github%20Access/Ejercicios-Clase-Semana1/1.2-lab-tuple-set-dict/your-code/Solutions.ipynb#ch0000060?line=5'>6</a>\u001b[0m sorted_tups \u001b[39m=\u001b[39m \u001b[39msorted\u001b[39;49m(word_freq\u001b[39m.\u001b[39;49mitems(), key\u001b[39m=\u001b[39;49moperator\u001b[39m.\u001b[39;49mitemgetter(\u001b[39m1\u001b[39;49m))\n\u001b[1;32m      <a href='vscode-notebook-cell:/Users/jaimemac/Documents/Github%20Access/Ejercicios-Clase-Semana1/1.2-lab-tuple-set-dict/your-code/Solutions.ipynb#ch0000060?line=6'>7</a>\u001b[0m \u001b[39mprint\u001b[39m(sorted_tups)\n",
      "\u001b[0;31mTypeError\u001b[0m: 'list' object is not callable"
     ]
    }
   ],
   "source": [
    "# Your code here\n",
    "import operator\n",
    "\n",
    "word_freq = {'love': 25, 'conversation': 1, 'every': 6, \"we're\": 1, 'plate': 1, 'sour': 1, 'jukebox': 1, 'now': 11, 'taxi': 1, 'fast': 1, 'bag': 1, 'man': 1, 'push': 3, 'baby': 14, 'going': 1, 'you': 16, \"don't\": 2, 'one': 1, 'mind': 2, 'backseat': 1, 'friends': 1, 'then': 3, 'know': 2, 'take': 1, 'play': 1, 'okay': 1, 'so': 2, 'begin': 1, 'start': 2, 'over': 1, 'body': 17, 'boy': 2, 'just': 1, 'we': 7, 'are': 1, 'girl': 2, 'tell': 1, 'singing': 2, 'drinking': 1, 'put': 3, 'our': 1, 'where': 1, \"i'll\": 1, 'all': 1, \"isn't\": 1, 'make': 1, 'lover': 1, 'get': 1, 'radio': 1, 'give': 1, \"i'm\": 23, 'like': 10, 'can': 1, 'doing': 2, 'with': 22, 'club': 1, 'come': 37, 'it': 1, 'somebody': 2, 'handmade': 2, 'out': 1, 'new': 6, 'room': 3, 'chance': 1, 'follow': 6, 'in': 27, 'may': 2, 'brand': 6, 'that': 2, 'magnet': 3, 'up': 3, 'first': 1, 'and': 23, 'pull': 3, 'of': 6, 'table': 1, 'much': 2, 'last': 3, 'i': 6, 'thrifty': 1, 'grab': 2, 'was': 2, 'driver': 1, 'slow': 1, 'dance': 1, 'the': 18, 'say': 2, 'trust': 1, 'family': 1, 'week': 1, 'date': 1, 'me': 10, 'do': 3, 'waist': 2, 'smell': 3, 'day': 6, 'although': 3, 'your': 21, 'leave': 1, 'want': 2, \"let's\": 2, 'lead': 6, 'at': 1, 'hand': 1, 'how': 1, 'talk': 4, 'not': 2, 'eat': 1, 'falling': 3, 'about': 1, 'story': 1, 'sweet': 1, 'best': 1, 'crazy': 2, 'let': 1, 'too': 5, 'van': 1, 'shots': 1, 'go': 2, 'to': 2, 'a': 8, 'my': 33, 'is': 5, 'place': 1, 'find': 1, 'shape': 6, 'on': 40, 'kiss': 1, 'were': 3, 'night': 3, 'heart': 3, 'for': 3, 'discovering': 6, 'something': 6, 'be': 16, 'bedsheets': 3, 'fill': 2, 'hours': 2, 'stop': 1, 'bar': 1}\n",
    "\n",
    "sorted_tups = sorted(word_freq.items(), key=operator.itemgetter(1))\n",
    "print(sorted_tups)\n",
    "\n",
    "\n",
    "\n",
    "\n"
   ]
  },
  {
   "cell_type": "code",
   "execution_count": 253,
   "metadata": {},
   "outputs": [
    {
     "ename": "SyntaxError",
     "evalue": "invalid syntax (3184507557.py, line 1)",
     "output_type": "error",
     "traceback": [
      "\u001b[0;36m  Input \u001b[0;32mIn [253]\u001b[0;36m\u001b[0m\n\u001b[0;31m    def nth_even range(0, 100):\u001b[0m\n\u001b[0m                 ^\u001b[0m\n\u001b[0;31mSyntaxError\u001b[0m\u001b[0;31m:\u001b[0m invalid syntax\n"
     ]
    }
   ],
   "source": [
    "def nth_even rang(0, 100):\n",
    "    \n",
    "    if(range % 2==0):\n",
    "        print(num,\" Is an even\")\n",
    "    else:\n",
    "        print(num,\" is an odd\")\n",
    "        \n",
    "    return()"
   ]
  }
 ],
 "metadata": {
  "kernelspec": {
   "display_name": "Python 3",
   "language": "python",
   "name": "python3"
  },
  "language_info": {
   "codemirror_mode": {
    "name": "ipython",
    "version": 3
   },
   "file_extension": ".py",
   "mimetype": "text/x-python",
   "name": "python",
   "nbconvert_exporter": "python",
   "pygments_lexer": "ipython3",
   "version": "3.8.5"
  },
  "toc": {
   "base_numbering": 1,
   "nav_menu": {},
   "number_sections": true,
   "sideBar": true,
   "skip_h1_title": false,
   "title_cell": "Table of Contents",
   "title_sidebar": "Contents",
   "toc_cell": true,
   "toc_position": {},
   "toc_section_display": true,
   "toc_window_display": false
  },
  "varInspector": {
   "cols": {
    "lenName": 16,
    "lenType": 16,
    "lenVar": 40
   },
   "kernels_config": {
    "python": {
     "delete_cmd_postfix": "",
     "delete_cmd_prefix": "del ",
     "library": "var_list.py",
     "varRefreshCmd": "print(var_dic_list())"
    },
    "r": {
     "delete_cmd_postfix": ") ",
     "delete_cmd_prefix": "rm(",
     "library": "var_list.r",
     "varRefreshCmd": "cat(var_dic_list()) "
    }
   },
   "types_to_exclude": [
    "module",
    "function",
    "builtin_function_or_method",
    "instance",
    "_Feature"
   ],
   "window_display": false
  }
 },
 "nbformat": 4,
 "nbformat_minor": 2
}
